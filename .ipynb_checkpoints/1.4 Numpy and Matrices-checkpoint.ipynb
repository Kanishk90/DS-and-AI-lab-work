{
 "cells": [
  {
   "cell_type": "code",
   "execution_count": 2,
   "id": "e3a9e8e7-318e-47e3-bd22-498caf119c47",
   "metadata": {},
   "outputs": [],
   "source": [
    "#import \n",
    "import numpy as n"
   ]
  },
  {
   "cell_type": "code",
   "execution_count": 4,
   "id": "c762738e-3988-4344-ae50-cd18380f3e67",
   "metadata": {},
   "outputs": [
    {
     "data": {
      "text/plain": [
       "array([[1, 2, 3],\n",
       "       [4, 5, 6],\n",
       "       [7, 8, 9]])"
      ]
     },
     "execution_count": 4,
     "metadata": {},
     "output_type": "execute_result"
    }
   ],
   "source": [
    "#matricx\n",
    "\n",
    "M = np.array([\n",
    "    [1,2,3],\n",
    "    [4,5,6],\n",
    "    [7,8,9]\n",
    "])\n",
    "M"
   ]
  }
 ],
 "metadata": {
  "kernelspec": {
   "display_name": "Python 3 (ipykernel)",
   "language": "python",
   "name": "python3"
  },
  "language_info": {
   "codemirror_mode": {
    "name": "ipython",
    "version": 3
   },
   "file_extension": ".py",
   "mimetype": "text/x-python",
   "name": "python",
   "nbconvert_exporter": "python",
   "pygments_lexer": "ipython3",
   "version": "3.13.3"
  }
 },
 "nbformat": 4,
 "nbformat_minor": 5
}

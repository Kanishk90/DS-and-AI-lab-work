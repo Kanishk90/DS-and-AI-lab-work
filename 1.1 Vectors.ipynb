{
 "cells": [
  {
   "cell_type": "code",
   "execution_count": 2,
   "id": "97593014-80cb-465f-a0c0-64a4b19d1f2c",
   "metadata": {},
   "outputs": [],
   "source": [
    "#import\n",
    "import numpy as np "
   ]
  },
  {
   "cell_type": "code",
   "execution_count": null,
   "id": "1baaaac1-4abd-412d-85f1-8b4dca9d3949",
   "metadata": {},
   "outputs": [],
   "source": [
    "# How vectors can be represented\n",
    "x = [1,2,3]\n",
    "y = [4,5,6]\n",
    "\n",
    "z = []\n",
    "for i in range(len("
   ]
  },
  {
   "cell_type": "code",
   "execution_count": 3,
   "id": "f51771b7-527b-49c3-a63e-8e15080c47cb",
   "metadata": {},
   "outputs": [
    {
     "name": "stdout",
     "output_type": "stream",
     "text": [
      "[1, 2, 3]\n"
     ]
    }
   ],
   "source": [
    "#Vectors as List\n",
    "x = [1,2,3]\n",
    "print(x)"
   ]
  },
  {
   "cell_type": "code",
   "execution_count": 6,
   "id": "b95746bf-285f-4bd2-81a7-3358847bd108",
   "metadata": {},
   "outputs": [
    {
     "name": "stdout",
     "output_type": "stream",
     "text": [
      "[1 2 3] <class 'numpy.ndarray'>\n"
     ]
    }
   ],
   "source": [
    "#Vectors as numpy array\n",
    "x= np.array([1,2,3])\n",
    "print(x,type(x))"
   ]
  },
  {
   "cell_type": "code",
   "execution_count": 10,
   "id": "652eece5-70e3-49ab-b424-e843614eb030",
   "metadata": {},
   "outputs": [
    {
     "data": {
      "text/plain": [
       "array([1, 2, 3, 4, 5])"
      ]
     },
     "execution_count": 10,
     "metadata": {},
     "output_type": "execute_result"
    }
   ],
   "source": [
    "X = np.arange(1,6)\n",
    "X"
   ]
  },
  {
   "cell_type": "code",
   "execution_count": 13,
   "id": "8e89cd3b-0adb-41d8-8268-6c6643216fe4",
   "metadata": {},
   "outputs": [
    {
     "data": {
      "text/plain": [
       "array([5, 7, 9])"
      ]
     },
     "execution_count": 13,
     "metadata": {},
     "output_type": "execute_result"
    }
   ],
   "source": [
    "#advantage of nparray\n",
    "x = np.array([1,2,3])\n",
    "y = np.array([4,5,6])\n",
    "z = x + y\n",
    "z"
   ]
  },
  {
   "cell_type": "code",
   "execution_count": 16,
   "id": "fc85799b-003a-49be-a80c-14060911f87b",
   "metadata": {},
   "outputs": [
    {
     "data": {
      "text/plain": [
       "array([ 4, 10, 18])"
      ]
     },
     "execution_count": 16,
     "metadata": {},
     "output_type": "execute_result"
    }
   ],
   "source": [
    "## Important operations on vectors\n",
    "\n",
    "# Element wise multiplication or Hadamard Product\n",
    "x = np.arange(1,4)\n",
    "y = np.arange(4,7)\n",
    "z = x*y\n",
    "z"
   ]
  },
  {
   "cell_type": "code",
   "execution_count": 17,
   "id": "42bec949-6298-4410-8f08-82ce2c92420e",
   "metadata": {},
   "outputs": [
    {
     "data": {
      "text/plain": [
       "array([3, 6, 9])"
      ]
     },
     "execution_count": 17,
     "metadata": {},
     "output_type": "execute_result"
    }
   ],
   "source": [
    "#scale vector\n",
    "a = 3 * x\n",
    "a"
   ]
  },
  {
   "cell_type": "code",
   "execution_count": 26,
   "id": "2d4546c1-9746-4632-a6cf-2e0f8734fd84",
   "metadata": {},
   "outputs": [],
   "source": [
    "#comparing python list with the numpy array\n",
    "x = list(range(1,100000))\n",
    "x_numpy = np.arange(1,100000)"
   ]
  },
  {
   "cell_type": "code",
   "execution_count": 28,
   "id": "bd9dc24d-c76c-4bbc-949d-a06db830b4e5",
   "metadata": {},
   "outputs": [
    {
     "name": "stdout",
     "output_type": "stream",
     "text": [
      "11.3 ms ± 1.28 ms per loop (mean ± std. dev. of 7 runs, 100 loops each)\n"
     ]
    }
   ],
   "source": [
    "comp = %timeit [2 * i for i in x]"
   ]
  },
  {
   "cell_type": "code",
   "execution_count": 27,
   "id": "309fa09f-f48a-4831-a01a-7e829dd4cb18",
   "metadata": {},
   "outputs": [
    {
     "name": "stdout",
     "output_type": "stream",
     "text": [
      "157 μs ± 10.5 μs per loop (mean ± std. dev. of 7 runs, 10,000 loops each)\n"
     ]
    }
   ],
   "source": [
    "%timeit 2 * x_numpy"
   ]
  },
  {
   "cell_type": "code",
   "execution_count": 31,
   "id": "d83739f3-cde1-433d-83ae-d706ca232671",
   "metadata": {},
   "outputs": [
    {
     "data": {
      "text/plain": [
       "array([ 1,  4,  9, 16])"
      ]
     },
     "execution_count": 31,
     "metadata": {},
     "output_type": "execute_result"
    }
   ],
   "source": [
    "# Element wise function of vectors\n",
    "# y = x**2\n",
    "y = np.arange(1,5) ** 2\n",
    "y"
   ]
  },
  {
   "cell_type": "code",
   "execution_count": 34,
   "id": "f92d602e-60f0-4bfb-a9b9-0609337690b6",
   "metadata": {},
   "outputs": [
    {
     "data": {
      "text/plain": [
       "array([0., 1., 2., 3., 4.])"
      ]
     },
     "execution_count": 34,
     "metadata": {},
     "output_type": "execute_result"
    }
   ],
   "source": [
    "# y log(x)\n",
    "val = np.log10(np.array([1,10,100,1000,10000]))\n",
    "val"
   ]
  },
  {
   "cell_type": "code",
   "execution_count": 36,
   "id": "a8b97455-891b-4496-ae89-855e23958a13",
   "metadata": {},
   "outputs": [
    {
     "data": {
      "text/plain": [
       "array([3, 4, 5])"
      ]
     },
     "execution_count": 36,
     "metadata": {},
     "output_type": "execute_result"
    }
   ],
   "source": [
    "# Adding Scalar\n",
    "x = np.array([1,2,3])\n",
    "z = x + 2\n",
    "z"
   ]
  },
  {
   "cell_type": "code",
   "execution_count": 37,
   "id": "7d40daa8-64b5-476b-9002-ea5abcb99e4a",
   "metadata": {},
   "outputs": [
    {
     "data": {
      "text/plain": [
       "array([ -7, -12, -17, -22])"
      ]
     },
     "execution_count": 37,
     "metadata": {},
     "output_type": "execute_result"
    }
   ],
   "source": [
    "# f(x) = 5x - 2\n",
    "x = np.array([-1,-2,-3,-4])\n",
    "z = 5 * x - 2\n",
    "z"
   ]
  },
  {
   "cell_type": "code",
   "execution_count": 38,
   "id": "dcbc8626-9f1b-4ffd-ac04-7224a7bbb1ad",
   "metadata": {},
   "outputs": [
    {
     "data": {
      "text/plain": [
       "np.int64(-60)"
      ]
     },
     "execution_count": 38,
     "metadata": {},
     "output_type": "execute_result"
    }
   ],
   "source": [
    "# Dot product\n",
    "# z = x*T.y\n",
    "x= np.arange(1,5)\n",
    "y = np.arange(-4,-8,-1)\n",
    "x@y\n",
    "  "
   ]
  },
  {
   "cell_type": "code",
   "execution_count": 40,
   "id": "a7625930-53f7-42a5-a711-1e4a7d7dea1e",
   "metadata": {},
   "outputs": [
    {
     "data": {
      "text/plain": [
       "np.int64(-60)"
      ]
     },
     "execution_count": 40,
     "metadata": {},
     "output_type": "execute_result"
    }
   ],
   "source": [
    "z = np.dot(x,y)\n",
    "z"
   ]
  },
  {
   "cell_type": "code",
   "execution_count": 41,
   "id": "9fe09068-784d-4f40-89f2-c802d89aeab3",
   "metadata": {},
   "outputs": [
    {
     "data": {
      "text/plain": [
       "array([0., 0., 0., 0., 0.])"
      ]
     },
     "execution_count": 41,
     "metadata": {},
     "output_type": "execute_result"
    }
   ],
   "source": [
    "# zeros vector\n",
    "zeros = np.zeros(5)\n",
    "zeros"
   ]
  },
  {
   "cell_type": "code",
   "execution_count": 43,
   "id": "31e8cd30-009f-425c-8078-4c1e028fd72f",
   "metadata": {},
   "outputs": [
    {
     "data": {
      "text/plain": [
       "array([1., 1., 1., 1., 1.])"
      ]
     },
     "execution_count": 43,
     "metadata": {},
     "output_type": "execute_result"
    }
   ],
   "source": [
    "#ones vector\n",
    "ones = np.ones(5)\n",
    "ones"
   ]
  },
  {
   "cell_type": "code",
   "execution_count": 44,
   "id": "838706ae-135d-4a8f-845f-e0e21c91ee11",
   "metadata": {},
   "outputs": [
    {
     "data": {
      "text/plain": [
       "array([5., 5., 5., 5., 5.])"
      ]
     },
     "execution_count": 44,
     "metadata": {},
     "output_type": "execute_result"
    }
   ],
   "source": [
    "# vecotor with all element are 5\n",
    "x = np.ones(5) * 5\n",
    "x"
   ]
  },
  {
   "cell_type": "code",
   "execution_count": 48,
   "id": "3129dc49-81d0-42e2-8704-cc71279090ca",
   "metadata": {},
   "outputs": [
    {
     "name": "stdout",
     "output_type": "stream",
     "text": [
      "l2 3.7416573867739413\n",
      "l1 6.0\n"
     ]
    }
   ],
   "source": [
    "x = np.array([1,2,3])\n",
    "# l2 norm \n",
    "l2 = np.linalg.norm(x)\n",
    "print(\"l2\",l2)\n",
    "l1 = np.linalg.norm(x,ord=1)\n",
    "print(\"l1\",l1)"
   ]
  },
  {
   "cell_type": "code",
   "execution_count": 49,
   "id": "a1111c46-1b5e-4890-ac9a-84c37dd6547f",
   "metadata": {},
   "outputs": [
    {
     "name": "stdout",
     "output_type": "stream",
     "text": [
      "(4,)\n",
      "1\n"
     ]
    }
   ],
   "source": [
    "# shape -: No of components in vector\n",
    "# dim :- No. of rows reqire to print the vector 1d,2d,3d\n",
    "x = np.array([1,2,3,4])\n",
    "shp = np.shape(x)\n",
    "dim = np.ndim(x)\n",
    "print(shp)\n",
    "print(dim)"
   ]
  },
  {
   "cell_type": "code",
   "execution_count": null,
   "id": "2f33f1e3-1f7f-44a3-95ab-0378903fdda2",
   "metadata": {},
   "outputs": [],
   "source": []
  }
 ],
 "metadata": {
  "kernelspec": {
   "display_name": "Python 3 (ipykernel)",
   "language": "python",
   "name": "python3"
  },
  "language_info": {
   "codemirror_mode": {
    "name": "ipython",
    "version": 3
   },
   "file_extension": ".py",
   "mimetype": "text/x-python",
   "name": "python",
   "nbconvert_exporter": "python",
   "pygments_lexer": "ipython3",
   "version": "3.13.3"
  }
 },
 "nbformat": 4,
 "nbformat_minor": 5
}
